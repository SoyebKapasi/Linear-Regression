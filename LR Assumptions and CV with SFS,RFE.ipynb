{
 "cells": [
  {
   "cell_type": "markdown",
   "metadata": {},
   "source": [
    "### Problem Statement\n",
    "\n",
    "\n",
    "The dataset contains the temperature, humidity, pressure, and so on recorded from different rooms. The data is collected from the sensors that are implanted in different houses. **The house temperature and humidity were monitored using a wireless sensor network. We aim is predict the energy used by the appliances in Wh.**\n",
    "\n",
    "#### About the dataset (Appliances Energy Prediction data)\n",
    "\n",
    "* Appliances: Energy use in Wh (Target Variable)\n",
    "* lights: Energy use of light fixtures in the house in Wh\n",
    "* T1: Temperature in the kitchen area in Celsius\n",
    "* RH_1: Humidity in the kitchen area in %\n",
    "* T2: Temperature in the living room area in Celsius\n",
    "* RH_2: Humidity in the living room area in %\n",
    "* T3: Temperature in the laundry room area\n",
    "* RH_3: Humidity in the laundry room area in %\n",
    "* T4: Temperature in the office room in Celsius\n",
    "* RH_4: Humidity in the office room in %\n",
    "* T5: Temperature in the bathroom in Celsius\n",
    "* RH_5: Humidity in the bathroom in %\n",
    "* T6: Temperature outside the building (north side) in Celsius\n",
    "* RH_6: Humidity outside the building (north side) in %\n",
    "* T7: Temperature in ironing room in Celsius\n",
    "* RH_7: Humidity in ironing room in %\n",
    "* T8: Temperature in teenager room 2 in Celsius\n",
    "* RH_8: Humidity in teenager room 2 in %\n",
    "* T9: Temperature in parents room in Celsius\n",
    "* RH_9: Humidity in parents room in %\n",
    "* T_out: Temperature outside th\n",
    "From Faculty (Olympus) to Everyone:  11:59 AM\n",
    "* Pres_mm_hg: Pressure in mm Hg\n",
    "* RH_out: Humidity outside the building in %\n",
    "* Windspeed: Speed of the wind in m/s\n",
    "* Visibility: Visibility of the building from the nearest weather station in km\n"
   ]
  },
  {
   "cell_type": "code",
   "execution_count": 1,
   "metadata": {},
   "outputs": [],
   "source": [
    "import pandas as pd \n",
    "import numpy as np\n",
    "import matplotlib.pyplot as plt\n",
    "import seaborn as sns\n",
    "\n",
    "# to suppress warnings \n",
    "from warnings import filterwarnings\n",
    "filterwarnings('ignore')\n",
    "\n",
    "# import train-test split \n",
    "from sklearn.model_selection import train_test_split\n",
    "\n",
    "# import 'stats'\n",
    "from scipy import stats\n",
    "\n",
    "# 'metrics' from sklearn is used for evaluating the model performance\n",
    "from sklearn.metrics import mean_squared_error\n",
    "\n",
    "# import functions to perform feature selection\n",
    "#from mlxtend.feature_selection import SequentialFeatureSelector as sfs\n",
    "from sklearn.feature_selection import RFE\n",
    "\n",
    "# import function to perform linear regression\n",
    "from sklearn.linear_model import LinearRegression\n",
    "\n",
    "# import functions to perform cross validation\n",
    "from sklearn.model_selection import LeaveOneOut\n",
    "from sklearn.model_selection import cross_val_score\n",
    "from sklearn.model_selection import KFold\n",
    "\n",
    "#Plotting Parameters\n",
    "plt.rcParams['figure.figsize'] = [15,8]"
   ]
  },
  {
   "cell_type": "code",
   "execution_count": 3,
   "metadata": {},
   "outputs": [],
   "source": [
    "energy = pd.read_csv('energy_data.csv')"
   ]
  },
  {
   "cell_type": "code",
   "execution_count": 4,
   "metadata": {},
   "outputs": [
    {
     "data": {
      "text/html": [
       "<div>\n",
       "<style scoped>\n",
       "    .dataframe tbody tr th:only-of-type {\n",
       "        vertical-align: middle;\n",
       "    }\n",
       "\n",
       "    .dataframe tbody tr th {\n",
       "        vertical-align: top;\n",
       "    }\n",
       "\n",
       "    .dataframe thead th {\n",
       "        text-align: right;\n",
       "    }\n",
       "</style>\n",
       "<table border=\"1\" class=\"dataframe\">\n",
       "  <thead>\n",
       "    <tr style=\"text-align: right;\">\n",
       "      <th></th>\n",
       "      <th>Appliances</th>\n",
       "      <th>lights</th>\n",
       "      <th>T1</th>\n",
       "      <th>RH_1</th>\n",
       "      <th>T2</th>\n",
       "      <th>RH_2</th>\n",
       "      <th>T3</th>\n",
       "      <th>RH_3</th>\n",
       "      <th>T4</th>\n",
       "      <th>RH_4</th>\n",
       "      <th>...</th>\n",
       "      <th>RH_7</th>\n",
       "      <th>T8</th>\n",
       "      <th>RH_8</th>\n",
       "      <th>T9</th>\n",
       "      <th>RH_9</th>\n",
       "      <th>T_out</th>\n",
       "      <th>Press_mm_hg</th>\n",
       "      <th>RH_out</th>\n",
       "      <th>Windspeed</th>\n",
       "      <th>Visibility</th>\n",
       "    </tr>\n",
       "  </thead>\n",
       "  <tbody>\n",
       "    <tr>\n",
       "      <th>0</th>\n",
       "      <td>60</td>\n",
       "      <td>20</td>\n",
       "      <td>20.700000</td>\n",
       "      <td>44.700000</td>\n",
       "      <td>19.500000</td>\n",
       "      <td>45.590000</td>\n",
       "      <td>21.390000</td>\n",
       "      <td>41.95</td>\n",
       "      <td>20.566667</td>\n",
       "      <td>45.626667</td>\n",
       "      <td>...</td>\n",
       "      <td>43.290000</td>\n",
       "      <td>20.500000</td>\n",
       "      <td>52.790000</td>\n",
       "      <td>18.306667</td>\n",
       "      <td>47.590000</td>\n",
       "      <td>11.016667</td>\n",
       "      <td>756.533333</td>\n",
       "      <td>88.333333</td>\n",
       "      <td>8.833333</td>\n",
       "      <td>38.166667</td>\n",
       "    </tr>\n",
       "    <tr>\n",
       "      <th>1</th>\n",
       "      <td>60</td>\n",
       "      <td>0</td>\n",
       "      <td>21.290000</td>\n",
       "      <td>37.863333</td>\n",
       "      <td>19.390000</td>\n",
       "      <td>39.663333</td>\n",
       "      <td>21.790000</td>\n",
       "      <td>36.70</td>\n",
       "      <td>20.463333</td>\n",
       "      <td>37.526667</td>\n",
       "      <td>...</td>\n",
       "      <td>32.095000</td>\n",
       "      <td>22.000000</td>\n",
       "      <td>39.223333</td>\n",
       "      <td>19.600000</td>\n",
       "      <td>38.826667</td>\n",
       "      <td>8.350000</td>\n",
       "      <td>761.800000</td>\n",
       "      <td>70.000000</td>\n",
       "      <td>3.500000</td>\n",
       "      <td>40.000000</td>\n",
       "    </tr>\n",
       "    <tr>\n",
       "      <th>2</th>\n",
       "      <td>80</td>\n",
       "      <td>0</td>\n",
       "      <td>21.390000</td>\n",
       "      <td>35.790000</td>\n",
       "      <td>19.290000</td>\n",
       "      <td>37.700000</td>\n",
       "      <td>22.760000</td>\n",
       "      <td>34.29</td>\n",
       "      <td>21.323333</td>\n",
       "      <td>34.730000</td>\n",
       "      <td>...</td>\n",
       "      <td>29.200000</td>\n",
       "      <td>22.390000</td>\n",
       "      <td>37.290000</td>\n",
       "      <td>19.463333</td>\n",
       "      <td>35.500000</td>\n",
       "      <td>6.866667</td>\n",
       "      <td>762.333333</td>\n",
       "      <td>69.666667</td>\n",
       "      <td>3.000000</td>\n",
       "      <td>35.666667</td>\n",
       "    </tr>\n",
       "    <tr>\n",
       "      <th>3</th>\n",
       "      <td>40</td>\n",
       "      <td>0</td>\n",
       "      <td>19.033333</td>\n",
       "      <td>41.826667</td>\n",
       "      <td>18.533333</td>\n",
       "      <td>41.290000</td>\n",
       "      <td>18.100000</td>\n",
       "      <td>43.79</td>\n",
       "      <td>15.890000</td>\n",
       "      <td>47.530000</td>\n",
       "      <td>...</td>\n",
       "      <td>40.138889</td>\n",
       "      <td>19.594444</td>\n",
       "      <td>51.062778</td>\n",
       "      <td>15.100000</td>\n",
       "      <td>46.760000</td>\n",
       "      <td>5.133333</td>\n",
       "      <td>769.583333</td>\n",
       "      <td>92.000000</td>\n",
       "      <td>4.833333</td>\n",
       "      <td>23.166667</td>\n",
       "    </tr>\n",
       "    <tr>\n",
       "      <th>4</th>\n",
       "      <td>60</td>\n",
       "      <td>30</td>\n",
       "      <td>21.700000</td>\n",
       "      <td>46.633333</td>\n",
       "      <td>20.700000</td>\n",
       "      <td>45.900000</td>\n",
       "      <td>22.323333</td>\n",
       "      <td>44.79</td>\n",
       "      <td>21.000000</td>\n",
       "      <td>47.966667</td>\n",
       "      <td>...</td>\n",
       "      <td>45.200000</td>\n",
       "      <td>20.469444</td>\n",
       "      <td>53.189444</td>\n",
       "      <td>18.290000</td>\n",
       "      <td>51.863333</td>\n",
       "      <td>8.633333</td>\n",
       "      <td>757.566667</td>\n",
       "      <td>95.666667</td>\n",
       "      <td>6.000000</td>\n",
       "      <td>55.333333</td>\n",
       "    </tr>\n",
       "  </tbody>\n",
       "</table>\n",
       "<p>5 rows × 25 columns</p>\n",
       "</div>"
      ],
      "text/plain": [
       "   Appliances  lights         T1       RH_1         T2       RH_2         T3  \\\n",
       "0          60      20  20.700000  44.700000  19.500000  45.590000  21.390000   \n",
       "1          60       0  21.290000  37.863333  19.390000  39.663333  21.790000   \n",
       "2          80       0  21.390000  35.790000  19.290000  37.700000  22.760000   \n",
       "3          40       0  19.033333  41.826667  18.533333  41.290000  18.100000   \n",
       "4          60      30  21.700000  46.633333  20.700000  45.900000  22.323333   \n",
       "\n",
       "    RH_3         T4       RH_4  ...       RH_7         T8       RH_8  \\\n",
       "0  41.95  20.566667  45.626667  ...  43.290000  20.500000  52.790000   \n",
       "1  36.70  20.463333  37.526667  ...  32.095000  22.000000  39.223333   \n",
       "2  34.29  21.323333  34.730000  ...  29.200000  22.390000  37.290000   \n",
       "3  43.79  15.890000  47.530000  ...  40.138889  19.594444  51.062778   \n",
       "4  44.79  21.000000  47.966667  ...  45.200000  20.469444  53.189444   \n",
       "\n",
       "          T9       RH_9      T_out  Press_mm_hg     RH_out  Windspeed  \\\n",
       "0  18.306667  47.590000  11.016667   756.533333  88.333333   8.833333   \n",
       "1  19.600000  38.826667   8.350000   761.800000  70.000000   3.500000   \n",
       "2  19.463333  35.500000   6.866667   762.333333  69.666667   3.000000   \n",
       "3  15.100000  46.760000   5.133333   769.583333  92.000000   4.833333   \n",
       "4  18.290000  51.863333   8.633333   757.566667  95.666667   6.000000   \n",
       "\n",
       "   Visibility  \n",
       "0   38.166667  \n",
       "1   40.000000  \n",
       "2   35.666667  \n",
       "3   23.166667  \n",
       "4   55.333333  \n",
       "\n",
       "[5 rows x 25 columns]"
      ]
     },
     "execution_count": 4,
     "metadata": {},
     "output_type": "execute_result"
    }
   ],
   "source": [
    "energy.head()"
   ]
  },
  {
   "cell_type": "code",
   "execution_count": 6,
   "metadata": {},
   "outputs": [
    {
     "data": {
      "text/plain": [
       "(1000, 25)"
      ]
     },
     "execution_count": 6,
     "metadata": {},
     "output_type": "execute_result"
    }
   ],
   "source": [
    "energy.shape"
   ]
  },
  {
   "cell_type": "code",
   "execution_count": 5,
   "metadata": {},
   "outputs": [
    {
     "data": {
      "image/png": "[encoded data removed]",
      "text/plain": [
       "<Figure size 1080x576 with 1 Axes>"
      ]
     },
     "metadata": {
      "needs_background": "light"
     },
     "output_type": "display_data"
    }
   ],
   "source": [
    "# Outliers\n",
    "energy.boxplot()\n",
    "plt.xticks(rotation = 90)\n",
    "plt.show()"
   ]
  },
  {
   "cell_type": "markdown",
   "metadata": {},
   "source": [
    "Since, Appliance and Press_mm_HG are the highest value holders, they are clearly an outlier. Now we will remove this and we will see the distribution of remaining variables"
   ]
  },
  {
   "cell_type": "code",
   "execution_count": 7,
   "metadata": {},
   "outputs": [
    {
     "data": {
      "image/png": "[encoded data removed]",
      "text/plain": [
       "<Figure size 1080x576 with 1 Axes>"
      ]
     },
     "metadata": {
      "needs_background": "light"
     },
     "output_type": "display_data"
    }
   ],
   "source": [
    "# Looking at the other variables without the TGT & Pressure...\n",
    "energy.drop([\"Appliances\", \"Press_mm_hg\"], axis = 1).boxplot()\n",
    "plt.xticks(rotation = 90)\n",
    "plt.show()"
   ]
  },
  {
   "cell_type": "code",
   "execution_count": 8,
   "metadata": {},
   "outputs": [
    {
     "data": {
      "text/plain": [
       "<AxesSubplot:>"
      ]
     },
     "execution_count": 8,
     "metadata": {},
     "output_type": "execute_result"
    },
    {
     "data": {
      "image/png": "[encoded data removed]",
      "text/plain": [
       "<Figure size 1080x576 with 1 Axes>"
      ]
     },
     "metadata": {
      "needs_background": "light"
     },
     "output_type": "display_data"
    }
   ],
   "source": [
    "# Target Variable\n",
    "\n",
    "energy.Appliances.plot(kind = \"box\")"
   ]
  },
  {
   "cell_type": "code",
   "execution_count": 9,
   "metadata": {},
   "outputs": [
    {
     "data": {
      "image/png": "[encoded data removed]",
      "text/plain": [
       "<Figure size 1080x576 with 1 Axes>"
      ]
     },
     "metadata": {
      "needs_background": "light"
     },
     "output_type": "display_data"
    }
   ],
   "source": [
    "# Remove Outliers using Boxplots\n",
    "\n",
    "# IQR - Q3 - Q1\n",
    "Q1 = energy.quantile(0.25) #Quartile 01\n",
    "Q3 = energy.quantile(0.75) #Quartile 03\n",
    "\n",
    "IQR = Q3 - Q1\n",
    "\n",
    "# Criterion: Values< Q1-1.5*IQR & Values > Q3+1.5*IQR\n",
    "\n",
    "# \n",
    "\n",
    "#energy[~(energy>(Q3+1.5*IQR))].boxplot()\n",
    "#plt.xticks(rotation = 90)\n",
    "#plt.show()\n",
    "\n",
    "# Remove the Outliers\n",
    "\n",
    "# ~ ~ Return all the values which are not meeting the criterion\n",
    "# or | use it for multiple conditions either of the two will be true. Both are true is not possible\n",
    "# .any(axis = 1) checks the entire row for atleast one True Entry (True means rep outliers)\n",
    "\n",
    "energy[~((energy < (Q1-1.5*IQR)) | (energy > (Q3+1.5*IQR))).any(axis = 1)].plot(kind = \"box\") #And, OR\n",
    "plt.xticks(rotation = 90)\n",
    "plt.show()"
   ]
  },
  {
   "cell_type": "code",
   "execution_count": 10,
   "metadata": {},
   "outputs": [],
   "source": [
    "newenergy = energy[~((energy < (Q1-1.5*IQR)) | (energy > (Q3+1.5*IQR))).any(axis = 1)]"
   ]
  },
  {
   "cell_type": "code",
   "execution_count": 11,
   "metadata": {},
   "outputs": [
    {
     "data": {
      "text/plain": [
       "(543, 25)"
      ]
     },
     "execution_count": 11,
     "metadata": {},
     "output_type": "execute_result"
    }
   ],
   "source": [
    "newenergy.shape"
   ]
  },
  {
   "cell_type": "code",
   "execution_count": 12,
   "metadata": {},
   "outputs": [
    {
     "data": {
      "text/plain": [
       "<AxesSubplot:>"
      ]
     },
     "execution_count": 12,
     "metadata": {},
     "output_type": "execute_result"
    },
    {
     "data": {
      "image/png": "[encoded data removed]",
      "text/plain": [
       "<Figure size 1080x576 with 1 Axes>"
      ]
     },
     "metadata": {
      "needs_background": "light"
     },
     "output_type": "display_data"
    }
   ],
   "source": [
    "newenergy.Appliances.plot(kind = \"box\")"
   ]
  },
  {
   "cell_type": "code",
   "execution_count": 13,
   "metadata": {},
   "outputs": [
    {
     "data": {
      "text/plain": [
       "Appliances     0\n",
       "lights         0\n",
       "T1             0\n",
       "RH_1           0\n",
       "T2             0\n",
       "RH_2           0\n",
       "T3             0\n",
       "RH_3           0\n",
       "T4             0\n",
       "RH_4           0\n",
       "T5             0\n",
       "RH_5           0\n",
       "T6             0\n",
       "RH_6           0\n",
       "T7             0\n",
       "RH_7           0\n",
       "T8             0\n",
       "RH_8           0\n",
       "T9             0\n",
       "RH_9           0\n",
       "T_out          0\n",
       "Press_mm_hg    0\n",
       "RH_out         0\n",
       "Windspeed      0\n",
       "Visibility     0\n",
       "dtype: int64"
      ]
     },
     "execution_count": 13,
     "metadata": {},
     "output_type": "execute_result"
    }
   ],
   "source": [
    "# Check the Missing Values\n",
    "\n",
    "energy.isnull().sum()"
   ]
  },
  {
   "cell_type": "code",
   "execution_count": 14,
   "metadata": {},
   "outputs": [
    {
     "data": {
      "text/plain": [
       "lights    0.0\n",
       "dtype: float64"
      ]
     },
     "execution_count": 14,
     "metadata": {},
     "output_type": "execute_result"
    }
   ],
   "source": [
    "# Check the SD\n",
    "newenergy.std()[newenergy.std()<1] # Values are around mean infact mean and it will not contribute"
   ]
  },
  {
   "cell_type": "code",
   "execution_count": 15,
   "metadata": {},
   "outputs": [
    {
     "name": "stdout",
     "output_type": "stream",
     "text": [
      "(434, 24)\n",
      "(109, 24)\n",
      "(434,)\n",
      "(109,)\n"
     ]
    }
   ],
   "source": [
    "# Linear Regression Model\n",
    "\n",
    "import statsmodels.api as sm\n",
    "\n",
    "X = newenergy.drop([\"Appliances\", \"lights\"], axis = 1)\n",
    "X = sm.add_constant(X) #Adding one constant\n",
    "\n",
    "y = newenergy.Appliances # Target Variable\n",
    "\n",
    "# Split the Data in Train and test\n",
    "\n",
    "xtrain, xtest, ytrain, ytest = train_test_split(X, y, random_state = 1, test_size = 0.20)\n",
    "\n",
    "print(xtrain.shape)\n",
    "print(xtest.shape)\n",
    "print(ytrain.shape)\n",
    "print(ytest.shape)"
   ]
  },
  {
   "cell_type": "code",
   "execution_count": 16,
   "metadata": {},
   "outputs": [
    {
     "data": {
      "text/html": [
       "<table class=\"simpletable\">\n",
       "<caption>OLS Regression Results</caption>\n",
       "<tr>\n",
       "  <th>Dep. Variable:</th>       <td>Appliances</td>    <th>  R-squared:         </th> <td>   0.352</td>\n",
       "</tr>\n",
       "<tr>\n",
       "  <th>Model:</th>                   <td>OLS</td>       <th>  Adj. R-squared:    </th> <td>   0.315</td>\n",
       "</tr>\n",
       "<tr>\n",
       "  <th>Method:</th>             <td>Least Squares</td>  <th>  F-statistic:       </th> <td>   9.663</td>\n",
       "</tr>\n",
       "<tr>\n",
       "  <th>Date:</th>             <td>Tue, 13 Apr 2021</td> <th>  Prob (F-statistic):</th> <td>1.09e-26</td>\n",
       "</tr>\n",
       "<tr>\n",
       "  <th>Time:</th>                 <td>20:16:19</td>     <th>  Log-Likelihood:    </th> <td> -1942.0</td>\n",
       "</tr>\n",
       "<tr>\n",
       "  <th>No. Observations:</th>      <td>   434</td>      <th>  AIC:               </th> <td>   3932.</td>\n",
       "</tr>\n",
       "<tr>\n",
       "  <th>Df Residuals:</th>          <td>   410</td>      <th>  BIC:               </th> <td>   4030.</td>\n",
       "</tr>\n",
       "<tr>\n",
       "  <th>Df Model:</th>              <td>    23</td>      <th>                     </th>     <td> </td>   \n",
       "</tr>\n",
       "<tr>\n",
       "  <th>Covariance Type:</th>      <td>nonrobust</td>    <th>                     </th>     <td> </td>   \n",
       "</tr>\n",
       "</table>\n",
       "<table class=\"simpletable\">\n",
       "<tr>\n",
       "       <td></td>          <th>coef</th>     <th>std err</th>      <th>t</th>      <th>P>|t|</th>  <th>[0.025</th>    <th>0.975]</th>  \n",
       "</tr>\n",
       "<tr>\n",
       "  <th>const</th>       <td>   30.5038</td> <td>  157.184</td> <td>    0.194</td> <td> 0.846</td> <td> -278.484</td> <td>  339.492</td>\n",
       "</tr>\n",
       "<tr>\n",
       "  <th>T1</th>          <td>    1.6850</td> <td>    3.239</td> <td>    0.520</td> <td> 0.603</td> <td>   -4.683</td> <td>    8.053</td>\n",
       "</tr>\n",
       "<tr>\n",
       "  <th>RH_1</th>        <td>    5.7350</td> <td>    1.404</td> <td>    4.084</td> <td> 0.000</td> <td>    2.974</td> <td>    8.496</td>\n",
       "</tr>\n",
       "<tr>\n",
       "  <th>T2</th>          <td>   -7.0984</td> <td>    2.915</td> <td>   -2.435</td> <td> 0.015</td> <td>  -12.829</td> <td>   -1.368</td>\n",
       "</tr>\n",
       "<tr>\n",
       "  <th>RH_2</th>        <td>   -4.4119</td> <td>    1.387</td> <td>   -3.181</td> <td> 0.002</td> <td>   -7.139</td> <td>   -1.685</td>\n",
       "</tr>\n",
       "<tr>\n",
       "  <th>T3</th>          <td>    4.7152</td> <td>    1.865</td> <td>    2.528</td> <td> 0.012</td> <td>    1.049</td> <td>    8.382</td>\n",
       "</tr>\n",
       "<tr>\n",
       "  <th>RH_3</th>        <td>    0.0217</td> <td>    1.275</td> <td>    0.017</td> <td> 0.986</td> <td>   -2.485</td> <td>    2.528</td>\n",
       "</tr>\n",
       "<tr>\n",
       "  <th>T4</th>          <td>    3.2258</td> <td>    2.027</td> <td>    1.591</td> <td> 0.112</td> <td>   -0.759</td> <td>    7.210</td>\n",
       "</tr>\n",
       "<tr>\n",
       "  <th>RH_4</th>        <td>    1.0482</td> <td>    1.182</td> <td>    0.887</td> <td> 0.376</td> <td>   -1.275</td> <td>    3.372</td>\n",
       "</tr>\n",
       "<tr>\n",
       "  <th>T5</th>          <td>    0.2366</td> <td>    2.129</td> <td>    0.111</td> <td> 0.912</td> <td>   -3.949</td> <td>    4.422</td>\n",
       "</tr>\n",
       "<tr>\n",
       "  <th>RH_5</th>        <td>   -0.0046</td> <td>    0.275</td> <td>   -0.017</td> <td> 0.987</td> <td>   -0.546</td> <td>    0.537</td>\n",
       "</tr>\n",
       "<tr>\n",
       "  <th>T6</th>          <td>    1.4891</td> <td>    0.949</td> <td>    1.569</td> <td> 0.117</td> <td>   -0.377</td> <td>    3.355</td>\n",
       "</tr>\n",
       "<tr>\n",
       "  <th>RH_6</th>        <td>    0.0480</td> <td>    0.107</td> <td>    0.447</td> <td> 0.655</td> <td>   -0.163</td> <td>    0.259</td>\n",
       "</tr>\n",
       "<tr>\n",
       "  <th>T7</th>          <td>   -4.4128</td> <td>    2.288</td> <td>   -1.928</td> <td> 0.055</td> <td>   -8.911</td> <td>    0.086</td>\n",
       "</tr>\n",
       "<tr>\n",
       "  <th>RH_7</th>        <td>    0.5859</td> <td>    0.676</td> <td>    0.867</td> <td> 0.387</td> <td>   -0.743</td> <td>    1.915</td>\n",
       "</tr>\n",
       "<tr>\n",
       "  <th>T8</th>          <td>   11.1364</td> <td>    1.670</td> <td>    6.667</td> <td> 0.000</td> <td>    7.853</td> <td>   14.420</td>\n",
       "</tr>\n",
       "<tr>\n",
       "  <th>RH_8</th>        <td>   -2.9775</td> <td>    0.588</td> <td>   -5.061</td> <td> 0.000</td> <td>   -4.134</td> <td>   -1.821</td>\n",
       "</tr>\n",
       "<tr>\n",
       "  <th>T9</th>          <td>   -8.3401</td> <td>    3.044</td> <td>   -2.740</td> <td> 0.006</td> <td>  -14.324</td> <td>   -2.356</td>\n",
       "</tr>\n",
       "<tr>\n",
       "  <th>RH_9</th>        <td>   -0.8892</td> <td>    0.663</td> <td>   -1.341</td> <td> 0.181</td> <td>   -2.192</td> <td>    0.414</td>\n",
       "</tr>\n",
       "<tr>\n",
       "  <th>T_out</th>       <td>   -0.5231</td> <td>    1.100</td> <td>   -0.476</td> <td> 0.634</td> <td>   -2.685</td> <td>    1.638</td>\n",
       "</tr>\n",
       "<tr>\n",
       "  <th>Press_mm_hg</th> <td>    0.0053</td> <td>    0.191</td> <td>    0.028</td> <td> 0.978</td> <td>   -0.371</td> <td>    0.381</td>\n",
       "</tr>\n",
       "<tr>\n",
       "  <th>RH_out</th>      <td>    0.0488</td> <td>    0.192</td> <td>    0.255</td> <td> 0.799</td> <td>   -0.328</td> <td>    0.426</td>\n",
       "</tr>\n",
       "<tr>\n",
       "  <th>Windspeed</th>   <td>    1.1656</td> <td>    0.592</td> <td>    1.969</td> <td> 0.050</td> <td>    0.002</td> <td>    2.329</td>\n",
       "</tr>\n",
       "<tr>\n",
       "  <th>Visibility</th>  <td>   -0.0091</td> <td>    0.129</td> <td>   -0.071</td> <td> 0.943</td> <td>   -0.262</td> <td>    0.244</td>\n",
       "</tr>\n",
       "</table>\n",
       "<table class=\"simpletable\">\n",
       "<tr>\n",
       "  <th>Omnibus:</th>       <td>128.702</td> <th>  Durbin-Watson:     </th> <td>   1.935</td>\n",
       "</tr>\n",
       "<tr>\n",
       "  <th>Prob(Omnibus):</th> <td> 0.000</td>  <th>  Jarque-Bera (JB):  </th> <td> 428.410</td>\n",
       "</tr>\n",
       "<tr>\n",
       "  <th>Skew:</th>          <td> 1.340</td>  <th>  Prob(JB):          </th> <td>9.37e-94</td>\n",
       "</tr>\n",
       "<tr>\n",
       "  <th>Kurtosis:</th>      <td> 7.063</td>  <th>  Cond. No.          </th> <td>1.16e+05</td>\n",
       "</tr>\n",
       "</table><br/><br/>Notes:<br/>[1] Standard Errors assume that the covariance matrix of the errors is correctly specified.<br/>[2] The condition number is large, 1.16e+05. This might indicate that there are<br/>strong multicollinearity or other numerical problems."
      ],
      "text/plain": [
       "<class 'statsmodels.iolib.summary.Summary'>\n",
       "\"\"\"\n",
       "                            OLS Regression Results                            \n",
       "==============================================================================\n",
       "Dep. Variable:             Appliances   R-squared:                       0.352\n",
       "Model:                            OLS   Adj. R-squared:                  0.315\n",
       "Method:                 Least Squares   F-statistic:                     9.663\n",
       "Date:                Tue, 13 Apr 2021   Prob (F-statistic):           1.09e-26\n",
       "Time:                        20:16:19   Log-Likelihood:                -1942.0\n",
       "No. Observations:                 434   AIC:                             3932.\n",
       "Df Residuals:                     410   BIC:                             4030.\n",
       "Df Model:                          23                                         \n",
       "Covariance Type:            nonrobust                                         \n",
       "===============================================================================\n",
       "                  coef    std err          t      P>|t|      [0.025      0.975]\n",
       "-------------------------------------------------------------------------------\n",
       "const          30.5038    157.184      0.194      0.846    -278.484     339.492\n",
       "T1              1.6850      3.239      0.520      0.603      -4.683       8.053\n",
       "RH_1            5.7350      1.404      4.084      0.000       2.974       8.496\n",
       "T2             -7.0984      2.915     -2.435      0.015     -12.829      -1.368\n",
       "RH_2           -4.4119      1.387     -3.181      0.002      -7.139      -1.685\n",
       "T3              4.7152      1.865      2.528      0.012       1.049       8.382\n",
       "RH_3            0.0217      1.275      0.017      0.986      -2.485       2.528\n",
       "T4              3.2258      2.027      1.591      0.112      -0.759       7.210\n",
       "RH_4            1.0482      1.182      0.887      0.376      -1.275       3.372\n",
       "T5              0.2366      2.129      0.111      0.912      -3.949       4.422\n",
       "RH_5           -0.0046      0.275     -0.017      0.987      -0.546       0.537\n",
       "T6              1.4891      0.949      1.569      0.117      -0.377       3.355\n",
       "RH_6            0.0480      0.107      0.447      0.655      -0.163       0.259\n",
       "T7             -4.4128      2.288     -1.928      0.055      -8.911       0.086\n",
       "RH_7            0.5859      0.676      0.867      0.387      -0.743       1.915\n",
       "T8             11.1364      1.670      6.667      0.000       7.853      14.420\n",
       "RH_8           -2.9775      0.588     -5.061      0.000      -4.134      -1.821\n",
       "T9             -8.3401      3.044     -2.740      0.006     -14.324      -2.356\n",
       "RH_9           -0.8892      0.663     -1.341      0.181      -2.192       0.414\n",
       "T_out          -0.5231      1.100     -0.476      0.634      -2.685       1.638\n",
       "Press_mm_hg     0.0053      0.191      0.028      0.978      -0.371       0.381\n",
       "RH_out          0.0488      0.192      0.255      0.799      -0.328       0.426\n",
       "Windspeed       1.1656      0.592      1.969      0.050       0.002       2.329\n",
       "Visibility     -0.0091      0.129     -0.071      0.943      -0.262       0.244\n",
       "==============================================================================\n",
       "Omnibus:                      128.702   Durbin-Watson:                   1.935\n",
       "Prob(Omnibus):                  0.000   Jarque-Bera (JB):              428.410\n",
       "Skew:                           1.340   Prob(JB):                     9.37e-94\n",
       "Kurtosis:                       7.063   Cond. No.                     1.16e+05\n",
       "==============================================================================\n",
       "\n",
       "Notes:\n",
       "[1] Standard Errors assume that the covariance matrix of the errors is correctly specified.\n",
       "[2] The condition number is large, 1.16e+05. This might indicate that there are\n",
       "strong multicollinearity or other numerical problems.\n",
       "\"\"\""
      ]
     },
     "execution_count": 16,
     "metadata": {},
     "output_type": "execute_result"
    }
   ],
   "source": [
    "model = sm.OLS(ytrain, xtrain).fit()\n",
    "\n",
    "model.summary()"
   ]
  },
  {
   "cell_type": "code",
   "execution_count": 17,
   "metadata": {},
   "outputs": [
    {
     "name": "stdout",
     "output_type": "stream",
     "text": [
      "R2 Score 0.267895764354363\n",
      "RMSE Score 19.178970998557517\n"
     ]
    }
   ],
   "source": [
    "# test r2 score and RMSe\n",
    "\n",
    "from sklearn.metrics import r2_score, mean_squared_error\n",
    "\n",
    "print(\"R2 Score\", r2_score(ytest, model.predict(xtest)))\n",
    "print(\"RMSE Score\", np.sqrt(mean_squared_error(ytest, model.predict(xtest))))"
   ]
  },
  {
   "cell_type": "code",
   "execution_count": 18,
   "metadata": {},
   "outputs": [
    {
     "data": {
      "text/plain": [
       "(0.624669245829712, 0.9996121718905507)"
      ]
     },
     "execution_count": 18,
     "metadata": {},
     "output_type": "execute_result"
    }
   ],
   "source": [
    "# Assumptions\n",
    "\n",
    "# Ho: Data is Linear\n",
    "# Ho: Data isn't Linear\n",
    "\n",
    "import statsmodels.api as sma\n",
    "sma.stats.diagnostic.linear_rainbow(model) # Linearity is met."
   ]
  },
  {
   "cell_type": "code",
   "execution_count": 19,
   "metadata": {},
   "outputs": [
    {
     "data": {
      "image/png": "[encoded data removed]",
      "text/plain": [
       "<Figure size 1080x576 with 1 Axes>"
      ]
     },
     "metadata": {
      "needs_background": "light"
     },
     "output_type": "display_data"
    }
   ],
   "source": [
    "# Residplot\n",
    "plt.scatter(model.fittedvalues, model.resid, color = \"r\")\n",
    "plt.show()"
   ]
  },
  {
   "cell_type": "code",
   "execution_count": 20,
   "metadata": {},
   "outputs": [
    {
     "data": {
      "text/plain": [
       "ShapiroResult(statistic=0.9248566031455994, pvalue=6.296408571393117e-14)"
      ]
     },
     "execution_count": 20,
     "metadata": {},
     "output_type": "execute_result"
    }
   ],
   "source": [
    "# Normality\n",
    "\n",
    "# Ho: Data/Residuals is Linear\n",
    "# Ho: Data/Residuals isn't Linear\n",
    "\n",
    "from scipy.stats import shapiro\n",
    "shapiro(model.resid)\n",
    "\n",
    "# Inference: Data is not Normal"
   ]
  },
  {
   "cell_type": "code",
   "execution_count": 21,
   "metadata": {},
   "outputs": [
    {
     "data": {
      "image/png": "[encoded data removed]",
      "text/plain": [
       "<Figure size 1080x576 with 1 Axes>"
      ]
     },
     "metadata": {
      "needs_background": "light"
     },
     "output_type": "display_data"
    }
   ],
   "source": [
    "# Use Probplot to visualize the same\n",
    "from scipy.stats import probplot\n",
    "probplot(model.resid, plot = plt)\n",
    "plt.show()"
   ]
  },
  {
   "cell_type": "code",
   "execution_count": 22,
   "metadata": {},
   "outputs": [],
   "source": [
    "# VIF: Multicollinearity\n",
    "\n",
    "from statsmodels.stats.outliers_influence import variance_inflation_factor\n",
    "\n",
    "# predictors only and not the target variable\n",
    "df = newenergy.drop([\"Appliances\", \"lights\"], axis = 1)\n",
    "\n",
    "mylist =[]\n",
    "\n",
    "for i in range(df.shape[1]):\n",
    "    mylist.append(variance_inflation_factor(df.values, i)) # VIF = 1/(1-R2score"
   ]
  },
  {
   "cell_type": "code",
   "execution_count": 23,
   "metadata": {},
   "outputs": [
    {
     "data": {
      "text/html": [
       "<div>\n",
       "<style scoped>\n",
       "    .dataframe tbody tr th:only-of-type {\n",
       "        vertical-align: middle;\n",
       "    }\n",
       "\n",
       "    .dataframe tbody tr th {\n",
       "        vertical-align: top;\n",
       "    }\n",
       "\n",
       "    .dataframe thead th {\n",
       "        text-align: right;\n",
       "    }\n",
       "</style>\n",
       "<table border=\"1\" class=\"dataframe\">\n",
       "  <thead>\n",
       "    <tr style=\"text-align: right;\">\n",
       "      <th></th>\n",
       "      <th>Features</th>\n",
       "      <th>VIF</th>\n",
       "    </tr>\n",
       "  </thead>\n",
       "  <tbody>\n",
       "    <tr>\n",
       "      <th>0</th>\n",
       "      <td>T1</td>\n",
       "      <td>4625.631971</td>\n",
       "    </tr>\n",
       "    <tr>\n",
       "      <th>2</th>\n",
       "      <td>T2</td>\n",
       "      <td>3317.245764</td>\n",
       "    </tr>\n",
       "    <tr>\n",
       "      <th>3</th>\n",
       "      <td>RH_2</td>\n",
       "      <td>3068.541540</td>\n",
       "    </tr>\n",
       "    <tr>\n",
       "      <th>1</th>\n",
       "      <td>RH_1</td>\n",
       "      <td>3061.694937</td>\n",
       "    </tr>\n",
       "    <tr>\n",
       "      <th>16</th>\n",
       "      <td>T9</td>\n",
       "      <td>2969.092992</td>\n",
       "    </tr>\n",
       "    <tr>\n",
       "      <th>5</th>\n",
       "      <td>RH_3</td>\n",
       "      <td>2089.000920</td>\n",
       "    </tr>\n",
       "    <tr>\n",
       "      <th>12</th>\n",
       "      <td>T7</td>\n",
       "      <td>1744.502736</td>\n",
       "    </tr>\n",
       "    <tr>\n",
       "      <th>4</th>\n",
       "      <td>T3</td>\n",
       "      <td>1659.385340</td>\n",
       "    </tr>\n",
       "    <tr>\n",
       "      <th>7</th>\n",
       "      <td>RH_4</td>\n",
       "      <td>1596.678462</td>\n",
       "    </tr>\n",
       "    <tr>\n",
       "      <th>6</th>\n",
       "      <td>T4</td>\n",
       "      <td>1548.095095</td>\n",
       "    </tr>\n",
       "    <tr>\n",
       "      <th>8</th>\n",
       "      <td>T5</td>\n",
       "      <td>1467.234881</td>\n",
       "    </tr>\n",
       "    <tr>\n",
       "      <th>14</th>\n",
       "      <td>T8</td>\n",
       "      <td>1164.736994</td>\n",
       "    </tr>\n",
       "    <tr>\n",
       "      <th>19</th>\n",
       "      <td>Press_mm_hg</td>\n",
       "      <td>854.912126</td>\n",
       "    </tr>\n",
       "    <tr>\n",
       "      <th>17</th>\n",
       "      <td>RH_9</td>\n",
       "      <td>677.385480</td>\n",
       "    </tr>\n",
       "    <tr>\n",
       "      <th>15</th>\n",
       "      <td>RH_8</td>\n",
       "      <td>592.052609</td>\n",
       "    </tr>\n",
       "    <tr>\n",
       "      <th>13</th>\n",
       "      <td>RH_7</td>\n",
       "      <td>504.157339</td>\n",
       "    </tr>\n",
       "    <tr>\n",
       "      <th>20</th>\n",
       "      <td>RH_out</td>\n",
       "      <td>218.485605</td>\n",
       "    </tr>\n",
       "    <tr>\n",
       "      <th>9</th>\n",
       "      <td>RH_5</td>\n",
       "      <td>153.208139</td>\n",
       "    </tr>\n",
       "    <tr>\n",
       "      <th>18</th>\n",
       "      <td>T_out</td>\n",
       "      <td>73.218843</td>\n",
       "    </tr>\n",
       "    <tr>\n",
       "      <th>10</th>\n",
       "      <td>T6</td>\n",
       "      <td>66.075106</td>\n",
       "    </tr>\n",
       "    <tr>\n",
       "      <th>11</th>\n",
       "      <td>RH_6</td>\n",
       "      <td>36.423793</td>\n",
       "    </tr>\n",
       "    <tr>\n",
       "      <th>22</th>\n",
       "      <td>Visibility</td>\n",
       "      <td>19.845493</td>\n",
       "    </tr>\n",
       "    <tr>\n",
       "      <th>21</th>\n",
       "      <td>Windspeed</td>\n",
       "      <td>5.744361</td>\n",
       "    </tr>\n",
       "  </tbody>\n",
       "</table>\n",
       "</div>"
      ],
      "text/plain": [
       "       Features          VIF\n",
       "0            T1  4625.631971\n",
       "2            T2  3317.245764\n",
       "3          RH_2  3068.541540\n",
       "1          RH_1  3061.694937\n",
       "16           T9  2969.092992\n",
       "5          RH_3  2089.000920\n",
       "12           T7  1744.502736\n",
       "4            T3  1659.385340\n",
       "7          RH_4  1596.678462\n",
       "6            T4  1548.095095\n",
       "8            T5  1467.234881\n",
       "14           T8  1164.736994\n",
       "19  Press_mm_hg   854.912126\n",
       "17         RH_9   677.385480\n",
       "15         RH_8   592.052609\n",
       "13         RH_7   504.157339\n",
       "20       RH_out   218.485605\n",
       "9          RH_5   153.208139\n",
       "18        T_out    73.218843\n",
       "10           T6    66.075106\n",
       "11         RH_6    36.423793\n",
       "22   Visibility    19.845493\n",
       "21    Windspeed     5.744361"
      ]
     },
     "execution_count": 23,
     "metadata": {},
     "output_type": "execute_result"
    }
   ],
   "source": [
    "pd.DataFrame({\"Features\": df.columns, \"VIF\":mylist}).sort_values(by = \"VIF\", ascending = False)"
   ]
  },
  {
   "cell_type": "code",
   "execution_count": 25,
   "metadata": {},
   "outputs": [
    {
     "name": "stdout",
     "output_type": "stream",
     "text": [
      "DW Stats 1.9348012888147135\n",
      "0.4776784093824873\n"
     ]
    }
   ],
   "source": [
    "# Breusch Pagan - Heteroskedasticity & DW for Autocorrelation\n",
    "\n",
    "from statsmodels.stats.stattools import durbin_watson\n",
    "from statsmodels.stats.api import het_breuschpagan\n",
    "\n",
    "print(\"DW Stats\", durbin_watson(model.resid)) # NO Autocorrelation\n",
    "teststats, pvalue, fstats, p_pvalue = het_breuschpagan(model.resid,xtrain) # endog, exog\n",
    "print(pvalue)"
   ]
  },
  {
   "cell_type": "markdown",
   "metadata": {},
   "source": [
    "### Model Diagnostics\n",
    "\n",
    "*    Data is linear however, the test of normality is violated.\n",
    "*    Check Transformation to find out if the normality is met.\n",
    "*    Has Multicollinearity. May be feature engg can help and since most of the variables are MCollinear and hence, this proves that the regression is not a good fit for the data.\n",
    "\n",
    "*    Residual Plot and found that there is some pattern which clearly signifies that the LR is not a good fit.\n",
    "\n",
    "*    Data is not suffering from heteroskedasticity and there is no autocorrel of errors.\n",
    "\n"
   ]
  },
  {
   "cell_type": "markdown",
   "metadata": {},
   "source": [
    "### Step wise Regression\n",
    "\n",
    "*    RFE\n",
    "*    SFS\n",
    "\n"
   ]
  },
  {
   "cell_type": "code",
   "execution_count": 26,
   "metadata": {},
   "outputs": [
    {
     "name": "stdout",
     "output_type": "stream",
     "text": [
      "Index(['RH_1', 'RH_2', 'T3', 'T6', 'T7', 'T8', 'RH_8', 'T9', 'RH_9',\n",
      "       'Windspeed'],\n",
      "      dtype='object')\n",
      "R Squared 0.31447496804291286\n"
     ]
    }
   ],
   "source": [
    "# Recursive Feature Elimination\n",
    "from sklearn.feature_selection import RFE\n",
    "from mlxtend.feature_selection import SequentialFeatureSelector as sfs\n",
    "from sklearn.linear_model import LinearRegression, Lasso\n",
    "from sklearn.ensemble import GradientBoostingRegressor\n",
    "\n",
    "ls = Lasso()\n",
    "gbm = GradientBoostingRegressor()\n",
    "# RFE: estimator, n_features_to_select = 10\n",
    "rfe = RFE(estimator=ls, n_features_to_select=10)\n",
    "\n",
    "# Fit and Transform\n",
    "X_new = rfe.fit_transform(xtrain, ytrain)\n",
    "colnos = rfe.get_support(indices = True)\n",
    "\n",
    "print(xtrain.iloc[:, colnos].columns)\n",
    "print(\"R Squared\", rfe.score(xtrain, ytrain))"
   ]
  },
  {
   "cell_type": "code",
   "execution_count": 27,
   "metadata": {},
   "outputs": [
    {
     "name": "stdout",
     "output_type": "stream",
     "text": [
      "Features:  ('const', 'RH_1', 'T2', 'RH_2', 'RH_6', 'T7', 'T8', 'RH_8', 'T9', 'RH_9', 'Windspeed')\n",
      "R Squared:  0.28791123118993106\n"
     ]
    }
   ],
   "source": [
    "# Sequential Feature Selector - estimator, forward = True, k_features=(2,12), \"best\", cv =10, verbose = 0\n",
    "SFS = sfs(estimator = ls, verbose=0, k_features = \"best\", \n",
    "    cv = 5, scoring = \"r2\")\n",
    "\n",
    "sfsmodel = SFS.fit(xtrain,ytrain)\n",
    "print(\"Features: \", sfsmodel.k_feature_names_)\n",
    "print(\"R Squared: \", sfsmodel.k_score_)"
   ]
  },
  {
   "cell_type": "markdown",
   "metadata": {},
   "source": [
    "### Cross Validation\n",
    "\n",
    "**Overfitting vs Underfitting**\n",
    "\n",
    "*    Overfitting is result when we see less performance on test in comparison to train. It means that the model does well on training and does not perform well on testing\n",
    "\n",
    "*    Underfitting is when the machine does not learn well from training and hence it does not do well on test as a result.\n"
   ]
  },
  {
   "cell_type": "code",
   "execution_count": 28,
   "metadata": {},
   "outputs": [],
   "source": [
    "# Kfold\n",
    "\n",
    "from sklearn.model_selection import KFold\n",
    "n =10\n",
    "\n",
    "# shuffle the data after every draw\n",
    "# n splits - how many splits\n",
    "\n",
    "kf = KFold(n_splits=n, shuffle = True)"
   ]
  },
  {
   "cell_type": "markdown",
   "metadata": {},
   "source": [
    "\n",
    "\n",
    "Perform training repeatedly on each k-1 fold (xtrain, ytrain) & use the Kth Fold(xtest, ytest) for testing. Append the scores in the list container\n"
   ]
  },
  {
   "cell_type": "code",
   "execution_count": 29,
   "metadata": {},
   "outputs": [
    {
     "name": "stdout",
     "output_type": "stream",
     "text": [
      "XTrain Dim: Fold 0 (900, 23)\n",
      "YTrain Dim: Fold 0 (900,)\n",
      "XTest Dim: Fold 0 (100, 23)\n",
      "YTest Dim: Fold 0 (100,)\n",
      "XTrain Dim: Fold 1 (900, 23)\n",
      "YTrain Dim: Fold 1 (900,)\n",
      "XTest Dim: Fold 1 (100, 23)\n",
      "YTest Dim: Fold 1 (100,)\n",
      "XTrain Dim: Fold 2 (900, 23)\n",
      "YTrain Dim: Fold 2 (900,)\n",
      "XTest Dim: Fold 2 (100, 23)\n",
      "YTest Dim: Fold 2 (100,)\n",
      "XTrain Dim: Fold 3 (900, 23)\n",
      "YTrain Dim: Fold 3 (900,)\n",
      "XTest Dim: Fold 3 (100, 23)\n",
      "YTest Dim: Fold 3 (100,)\n",
      "XTrain Dim: Fold 4 (900, 23)\n",
      "YTrain Dim: Fold 4 (900,)\n",
      "XTest Dim: Fold 4 (100, 23)\n",
      "YTest Dim: Fold 4 (100,)\n",
      "XTrain Dim: Fold 5 (900, 23)\n",
      "YTrain Dim: Fold 5 (900,)\n",
      "XTest Dim: Fold 5 (100, 23)\n",
      "YTest Dim: Fold 5 (100,)\n",
      "XTrain Dim: Fold 6 (900, 23)\n",
      "YTrain Dim: Fold 6 (900,)\n",
      "XTest Dim: Fold 6 (100, 23)\n",
      "YTest Dim: Fold 6 (100,)\n",
      "XTrain Dim: Fold 7 (900, 23)\n",
      "YTrain Dim: Fold 7 (900,)\n",
      "XTest Dim: Fold 7 (100, 23)\n",
      "YTest Dim: Fold 7 (100,)\n",
      "XTrain Dim: Fold 8 (900, 23)\n",
      "YTrain Dim: Fold 8 (900,)\n",
      "XTest Dim: Fold 8 (100, 23)\n",
      "YTest Dim: Fold 8 (100,)\n",
      "XTrain Dim: Fold 9 (900, 23)\n",
      "YTrain Dim: Fold 9 (900,)\n",
      "XTest Dim: Fold 9 (100, 23)\n",
      "YTest Dim: Fold 9 (100,)\n"
     ]
    }
   ],
   "source": [
    "# Defined X & y\n",
    "df = energy.drop([\"Appliances\", \"lights\"], axis = 1)\n",
    "y = energy.Appliances\n",
    "\n",
    "for i in range(n):\n",
    "    results = next(kf.split(df)) # can see what all folds are generated using list func.\n",
    "    xtrain = df.iloc[results[0]]\n",
    "    xtest = df.iloc[results[1]]\n",
    "    ytrain = y.iloc[results[0]]\n",
    "    ytest = y.iloc[results[1]]\n",
    "    print(\"XTrain Dim:\", \"Fold\", i, xtrain.shape)\n",
    "    #print(xtrain.head())\n",
    "    print(\"YTrain Dim:\", \"Fold\", i, ytrain.shape)\n",
    "    print(\"XTest Dim:\", \"Fold\", i, xtest.shape)\n",
    "    print(\"YTest Dim:\", \"Fold\", i, ytest.shape)"
   ]
  },
  {
   "cell_type": "code",
   "execution_count": 30,
   "metadata": {},
   "outputs": [
    {
     "name": "stdout",
     "output_type": "stream",
     "text": [
      "All Scores [ 0.1425  0.0885  0.154   0.1777  0.1748  0.0391  0.2957  0.1302  0.0571\n",
      " -0.0346]\n",
      "\n",
      "Min Score -0.0346\n",
      "MaxScore 0.2957\n",
      "Avg Score 0.1225\n",
      "SD Score 0.0862\n"
     ]
    }
   ],
   "source": [
    "# Defined X & y\n",
    "df = energy.drop([\"Appliances\", \"lights\"], axis = 1)\n",
    "y = energy.Appliances\n",
    "\n",
    "from sklearn.metrics import r2_score\n",
    "\n",
    "# Function to calc R2Score\n",
    "def r2scores(model, x_train, y_train, x_test,y_test):\n",
    "    pred_model = model.fit(x_train, y_train).predict(x_test)\n",
    "    return(r2_score(y_test,pred_model))\n",
    "\n",
    "# K Fold CV\n",
    "\n",
    "scores = []\n",
    "lrfit = LinearRegression()\n",
    "\n",
    "for i in range(n):\n",
    "    results = next(kf.split(df)) # can see what all folds are generated using list func.\n",
    "    xtrain = df.iloc[results[0]]\n",
    "    xtest = df.iloc[results[1]]\n",
    "    ytrain = y.iloc[results[0]]\n",
    "    ytest = y.iloc[results[1]]\n",
    "    scores.append(r2scores(lrfit, xtrain, ytrain, xtest, ytest))\n",
    "    \n",
    "# Print all the Scores\n",
    "print(\"All Scores\", np.round(scores,4))\n",
    "\n",
    "# Print the Min Score\n",
    "print(\"\\nMin Score\", np.round(np.min(scores), 4))\n",
    "\n",
    "# MaxScore\n",
    "print(\"MaxScore\", np.round(np.max(scores), 4))\n",
    "\n",
    "# Average & SD Score\n",
    "print(\"Avg Score\", np.round(np.mean(scores), 4))\n",
    "print(\"SD Score\", np.round(np.std(scores), 4))"
   ]
  },
  {
   "cell_type": "code",
   "execution_count": 31,
   "metadata": {},
   "outputs": [
    {
     "data": {
      "text/plain": [
       "0.18246828188131442"
      ]
     },
     "execution_count": 31,
     "metadata": {},
     "output_type": "execute_result"
    }
   ],
   "source": [
    "from sklearn.model_selection import cross_val_score\n",
    "\n",
    "from sklearn.model_selection import KFold\n",
    "n =5\n",
    "\n",
    "# shuffle the data after every draw\n",
    "# n splits - how many splits\n",
    "\n",
    "#kf_ = KFold(n_splits=n, shuffle = True)\n",
    "cross_val_score(estimator=lrfit, X = xtrain, y = ytrain, scoring = \"r2\", cv = 2).mean()"
   ]
  }
 ],
 "metadata": {
  "kernelspec": {
   "display_name": "Python 3",
   "language": "python",
   "name": "python3"
  },
  "language_info": {
   "codemirror_mode": {
    "name": "ipython",
    "version": 3
   },
   "file_extension": ".py",
   "mimetype": "text/x-python",
   "name": "python",
   "nbconvert_exporter": "python",
   "pygments_lexer": "ipython3",
   "version": "3.8.5"
  }
 },
 "nbformat": 4,
 "nbformat_minor": 4
}
